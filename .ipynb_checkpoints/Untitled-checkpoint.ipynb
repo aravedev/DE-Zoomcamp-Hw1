{
 "cells": [
  {
   "cell_type": "code",
   "execution_count": 6,
   "id": "6403b237",
   "metadata": {},
   "outputs": [],
   "source": [
    "import os\n",
    "import argparse\n",
    "from time import time\n",
    "import pandas as pd\n",
    "from sqlalchemy import create_engine\n",
    "import requests"
   ]
  },
  {
   "cell_type": "code",
   "execution_count": 21,
   "id": "facf8c03",
   "metadata": {},
   "outputs": [],
   "source": [
    "csv_url=\"https://github.com/DataTalksClub/nyc-tlc-data/releases/download/green/green_tripdata_2019-01.csv.gz\"\n",
    "csv_name=\"yellow_tripdata_2021-01.csv.gz\"\n",
    "\n",
    "csv_url_2=\"https://s3.amazonaws.com/nyc-tlc/misc/taxi+_zone_lookup.csv\"\n",
    "csv_name_2=\"ny_zones.csv\""
   ]
  },
  {
   "cell_type": "code",
   "execution_count": 22,
   "id": "bfedccb2",
   "metadata": {},
   "outputs": [
    {
     "data": {
      "text/plain": [
       "0"
      ]
     },
     "execution_count": 22,
     "metadata": {},
     "output_type": "execute_result"
    }
   ],
   "source": [
    "os.system(f\"wget {csv_url} -O {csv_name}\")\n",
    "os.system(f\"wget {csv_url_2} -O {csv_name_2}\")"
   ]
  },
  {
   "cell_type": "code",
   "execution_count": null,
   "id": "23d8a2f2",
   "metadata": {},
   "outputs": [],
   "source": [
    "user = \"root\"\n",
    "password = \"root\"\n",
    "host = \"localhost\"\n",
    "port = \"5433\"\n",
    "db = \"ny_taxi_hw\""
   ]
  },
  {
   "cell_type": "code",
   "execution_count": 18,
   "id": "4fde4ee0",
   "metadata": {},
   "outputs": [],
   "source": [
    "postgres_url = f'postgresql://{user}:{password}@{host}:{port}/{db}'\n",
    "engine = create_engine(postgres_url)"
   ]
  },
  {
   "cell_type": "code",
   "execution_count": 20,
   "id": "3f725f42",
   "metadata": {},
   "outputs": [
    {
     "ename": "SyntaxError",
     "evalue": "invalid syntax (2288292115.py, line 1)",
     "output_type": "error",
     "traceback": [
      "\u001b[1;36m  Input \u001b[1;32mIn [20]\u001b[1;36m\u001b[0m\n\u001b[1;33m    df_copy=(iterator=True, chunksize=100000)\u001b[0m\n\u001b[1;37m                     ^\u001b[0m\n\u001b[1;31mSyntaxError\u001b[0m\u001b[1;31m:\u001b[0m invalid syntax\n"
     ]
    }
   ],
   "source": [
    "df_copy=(iterator=True, chunksize=100000)"
   ]
  },
  {
   "cell_type": "code",
   "execution_count": null,
   "id": "7a0cdeab",
   "metadata": {},
   "outputs": [],
   "source": []
  }
 ],
 "metadata": {
  "kernelspec": {
   "display_name": "Python 3 (ipykernel)",
   "language": "python",
   "name": "python3"
  },
  "language_info": {
   "codemirror_mode": {
    "name": "ipython",
    "version": 3
   },
   "file_extension": ".py",
   "mimetype": "text/x-python",
   "name": "python",
   "nbconvert_exporter": "python",
   "pygments_lexer": "ipython3",
   "version": "3.9.12"
  }
 },
 "nbformat": 4,
 "nbformat_minor": 5
}
