{
 "cells": [
  {
   "cell_type": "code",
   "execution_count": 6,
   "id": "fb7457c9",
   "metadata": {},
   "outputs": [],
   "source": [
    "import os\n",
    "import argparse\n",
    "from time import time\n",
    "import pandas as pd\n",
    "from sqlalchemy import create_engine\n",
    "import requests"
   ]
  },
  {
   "cell_type": "code",
   "execution_count": 21,
   "id": "c21a5977",
   "metadata": {},
   "outputs": [],
   "source": [
    "csv_url=\"https://github.com/DataTalksClub/nyc-tlc-data/releases/download/green/green_tripdata_2019-01.csv.gz\"\n",
    "csv_name=\"yellow_tripdata_2021-01.csv.gz\"\n",
    "\n",
    "csv_url_2=\"https://s3.amazonaws.com/nyc-tlc/misc/taxi+_zone_lookup.csv\"\n",
    "csv_name_2=\"ny_zones.csv\""
   ]
  },
  {
   "cell_type": "code",
   "execution_count": 22,
   "id": "03ca0a9f",
   "metadata": {},
   "outputs": [
    {
     "data": {
      "text/plain": [
       "0"
      ]
     },
     "execution_count": 22,
     "metadata": {},
     "output_type": "execute_result"
    }
   ],
   "source": [
    "os.system(f\"wget {csv_url} -O {csv_name}\")\n",
    "os.system(f\"wget {csv_url_2} -O {csv_name_2}\")"
   ]
  },
  {
   "cell_type": "code",
   "execution_count": 30,
   "id": "10cc597d",
   "metadata": {},
   "outputs": [
    {
     "name": "stdout",
     "output_type": "stream",
     "text": [
      "<class 'pandas.core.frame.DataFrame'>\n",
      "RangeIndex: 630918 entries, 0 to 630917\n",
      "Data columns (total 20 columns):\n",
      " #   Column                 Non-Null Count   Dtype  \n",
      "---  ------                 --------------   -----  \n",
      " 0   VendorID               630918 non-null  int64  \n",
      " 1   lpep_pickup_datetime   630918 non-null  object \n",
      " 2   lpep_dropoff_datetime  630918 non-null  object \n",
      " 3   store_and_fwd_flag     630918 non-null  object \n",
      " 4   RatecodeID             630918 non-null  int64  \n",
      " 5   PULocationID           630918 non-null  int64  \n",
      " 6   DOLocationID           630918 non-null  int64  \n",
      " 7   passenger_count        630918 non-null  int64  \n",
      " 8   trip_distance          630918 non-null  float64\n",
      " 9   fare_amount            630918 non-null  float64\n",
      " 10  extra                  630918 non-null  float64\n",
      " 11  mta_tax                630918 non-null  float64\n",
      " 12  tip_amount             630918 non-null  float64\n",
      " 13  tolls_amount           630918 non-null  float64\n",
      " 14  ehail_fee              0 non-null       float64\n",
      " 15  improvement_surcharge  630918 non-null  float64\n",
      " 16  total_amount           630918 non-null  float64\n",
      " 17  payment_type           630918 non-null  int64  \n",
      " 18  trip_type              630918 non-null  int64  \n",
      " 19  congestion_surcharge   84538 non-null   float64\n",
      "dtypes: float64(10), int64(7), object(3)\n",
      "memory usage: 96.3+ MB\n"
     ]
    }
   ],
   "source": [
    "df=pd.read_csv(csv_name)\n",
    "df.info()"
   ]
  },
  {
   "cell_type": "code",
   "execution_count": 26,
   "id": "dd74fd7c",
   "metadata": {},
   "outputs": [
    {
     "data": {
      "text/plain": [
       "Index(['vendorid', 'lpep_pickup_datetime', 'lpep_dropoff_datetime',\n",
       "       'store_and_fwd_flag', 'ratecodeid', 'pulocationid', 'dolocationid',\n",
       "       'passenger_count', 'trip_distance', 'fare_amount', 'extra', 'mta_tax',\n",
       "       'tip_amount', 'tolls_amount', 'ehail_fee', 'improvement_surcharge',\n",
       "       'total_amount', 'payment_type', 'trip_type', 'congestion_surcharge'],\n",
       "      dtype='object')"
      ]
     },
     "execution_count": 26,
     "metadata": {},
     "output_type": "execute_result"
    }
   ],
   "source": [
    "df.columns = df.columns.str.lower()\n",
    "df.columns"
   ]
  },
  {
   "cell_type": "code",
   "execution_count": 27,
   "id": "15aa95fa",
   "metadata": {},
   "outputs": [],
   "source": [
    "user = \"root\"\n",
    "password = \"root\"\n",
    "host = \"localhost\"\n",
    "port = \"5433\"\n",
    "db = \"ny_taxi_hw\""
   ]
  },
  {
   "cell_type": "code",
   "execution_count": 28,
   "id": "074e30bf",
   "metadata": {},
   "outputs": [],
   "source": [
    "postgres_url = f'postgresql://{user}:{password}@{host}:{port}/{db}'\n",
    "engine = create_engine(postgres_url)"
   ]
  },
  {
   "cell_type": "code",
   "execution_count": 29,
   "id": "292adb5d",
   "metadata": {},
   "outputs": [
    {
     "data": {
      "text/plain": [
       "<sqlalchemy.engine.base.Connection at 0x20f5abd98e0>"
      ]
     },
     "execution_count": 29,
     "metadata": {},
     "output_type": "execute_result"
    }
   ],
   "source": [
    "engine.connect()"
   ]
  },
  {
   "cell_type": "code",
   "execution_count": 20,
   "id": "6d3acf2d",
   "metadata": {},
   "outputs": [
    {
     "ename": "SyntaxError",
     "evalue": "invalid syntax (2288292115.py, line 1)",
     "output_type": "error",
     "traceback": [
      "\u001b[1;36m  Input \u001b[1;32mIn [20]\u001b[1;36m\u001b[0m\n\u001b[1;33m    df_copy=(iterator=True, chunksize=100000)\u001b[0m\n\u001b[1;37m                     ^\u001b[0m\n\u001b[1;31mSyntaxError\u001b[0m\u001b[1;31m:\u001b[0m invalid syntax\n"
     ]
    }
   ],
   "source": [
    "df_copy=(iterator=True, chunksize=100000)"
   ]
  },
  {
   "cell_type": "code",
   "execution_count": null,
   "id": "b541b030",
   "metadata": {},
   "outputs": [],
   "source": []
  }
 ],
 "metadata": {
  "kernelspec": {
   "display_name": "Python 3 (ipykernel)",
   "language": "python",
   "name": "python3"
  },
  "language_info": {
   "codemirror_mode": {
    "name": "ipython",
    "version": 3
   },
   "file_extension": ".py",
   "mimetype": "text/x-python",
   "name": "python",
   "nbconvert_exporter": "python",
   "pygments_lexer": "ipython3",
   "version": "3.9.12"
  }
 },
 "nbformat": 4,
 "nbformat_minor": 5
}
